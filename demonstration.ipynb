{
 "cells": [
  {
   "cell_type": "code",
   "execution_count": 38,
   "metadata": {},
   "outputs": [],
   "source": [
    "import requests"
   ]
  },
  {
   "cell_type": "code",
   "execution_count": 39,
   "metadata": {},
   "outputs": [],
   "source": [
    "lh = 'http://localhost:15000'"
   ]
  },
  {
   "cell_type": "code",
   "execution_count": 40,
   "metadata": {},
   "outputs": [],
   "source": [
    "# All user login\n",
    "customers = []\n",
    "usernames = ['charlie', 'chloe', 'charlotte']\n",
    "passwords = ['Charlie123', 'Chloe123', 'Charlotte123']\n",
    "for i in [0, 1, 2]:\n",
    "    response = requests.post(lh+'/login?username='+usernames[i]+'&password='+passwords[i])\n",
    "    customers.append(response.json()['token'])\n",
    "\n",
    "restaurants = []\n",
    "usernames = ['riley', 'ruby', 'ryan']\n",
    "passwords = ['Riley123', 'Ruby123', 'Ryan123']\n",
    "for i in [0, 1, 2]:\n",
    "    response = requests.post(lh+'/login?username='+usernames[i]+'&password='+passwords[i])\n",
    "    restaurants.append(response.json()['token'])\n",
    "\n",
    "\n",
    "deliveries = []\n",
    "usernames = ['daniel', 'daisy', 'dylan']\n",
    "passwords = ['Daniel123', 'Daisy123', 'Dylan123']\n",
    "for i in [0, 1, 2]:\n",
    "    response = requests.post(lh+'/login?username='+usernames[i]+'&password='+passwords[i])\n",
    "    deliveries.append(response.json()['token'])"
   ]
  },
  {
   "cell_type": "code",
   "execution_count": 41,
   "metadata": {},
   "outputs": [
    {
     "data": {
      "text/plain": [
       "'0ef2c065139f33c1e3f214f1828c4f93'"
      ]
     },
     "execution_count": 41,
     "metadata": {},
     "output_type": "execute_result"
    }
   ],
   "source": [
    "response = requests.post(\n",
    "    lh\n",
    "    +'/order?token='+customers[0]\n",
    "    +'&restaurant_id=1&food_id=1'\n",
    ")\n",
    "order_id = response.json()['order_id']\n",
    "order_id"
   ]
  },
  {
   "cell_type": "code",
   "execution_count": 42,
   "metadata": {},
   "outputs": [
    {
     "data": {
      "text/plain": [
       "403"
      ]
     },
     "execution_count": 42,
     "metadata": {},
     "output_type": "execute_result"
    }
   ],
   "source": [
    "response = requests.put(\n",
    "    lh\n",
    "    + '/order/' + order_id\n",
    "    + '?token=' + restaurants[1]\n",
    "    + '&prepared=true')\n",
    "response.status_code #403"
   ]
  },
  {
   "cell_type": "code",
   "execution_count": 43,
   "metadata": {},
   "outputs": [
    {
     "data": {
      "text/plain": [
       "204"
      ]
     },
     "execution_count": 43,
     "metadata": {},
     "output_type": "execute_result"
    }
   ],
   "source": [
    "response = requests.put(\n",
    "    lh\n",
    "    + '/order/' + order_id\n",
    "    + '?token=' + restaurants[0]\n",
    "    + '&prepared=true')\n",
    "response.status_code"
   ]
  },
  {
   "cell_type": "code",
   "execution_count": 44,
   "metadata": {},
   "outputs": [
    {
     "data": {
      "text/plain": [
       "204"
      ]
     },
     "execution_count": 44,
     "metadata": {},
     "output_type": "execute_result"
    }
   ],
   "source": [
    "response = requests.put(\n",
    "    lh\n",
    "    + '/order/' + order_id\n",
    "    + '?token=' + deliveries[0]\n",
    "    + '&shipped=true'\n",
    ")\n",
    "response.status_code"
   ]
  },
  {
   "cell_type": "code",
   "execution_count": 45,
   "metadata": {},
   "outputs": [
    {
     "data": {
      "text/plain": [
       "404"
      ]
     },
     "execution_count": 45,
     "metadata": {},
     "output_type": "execute_result"
    }
   ],
   "source": [
    "response = requests.put(\n",
    "    lh\n",
    "    + '/order/' + order_id\n",
    "    + '?token=' + deliveries[0] \n",
    "    + '&arrived=true'\n",
    ")\n",
    "response.status_code"
   ]
  },
  {
   "cell_type": "code",
   "execution_count": 74,
   "metadata": {},
   "outputs": [
    {
     "name": "stdout",
     "output_type": "stream",
     "text": [
      "\n"
     ]
    },
    {
     "data": {
      "text/plain": [
       "204"
      ]
     },
     "execution_count": 74,
     "metadata": {},
     "output_type": "execute_result"
    }
   ],
   "source": [
    "response = requests.put(\n",
    "    lh\n",
    "    + '/order/' + order_id\n",
    "    + '?token=' + deliveries[0] \n",
    "    + '&arrived=true'\n",
    ")\n",
    "print()\n",
    "response.status_code"
   ]
  },
  {
   "cell_type": "code",
   "execution_count": 73,
   "metadata": {},
   "outputs": [
    {
     "name": "stdout",
     "output_type": "stream",
     "text": [
      "200\n"
     ]
    },
    {
     "data": {
      "text/plain": [
       "{'food_id': '1',\n",
       " 'order_id': '0ef2c065139f33c1e3f214f1828c4f93',\n",
       " 'restaurant_id': '1',\n",
       " 'taken': 1}"
      ]
     },
     "execution_count": 73,
     "metadata": {},
     "output_type": "execute_result"
    }
   ],
   "source": [
    "response = requests.get(\n",
    "    lh\n",
    "    + '/order'\n",
    "    + '?order_id=' + order_id\n",
    ")\n",
    "print(response.status_code)\n",
    "response.json()"
   ]
  },
  {
   "cell_type": "code",
   "execution_count": 68,
   "metadata": {},
   "outputs": [
    {
     "name": "stdout",
     "output_type": "stream",
     "text": [
      "201\n"
     ]
    },
    {
     "data": {
      "text/plain": [
       "{'food_id': 5.0}"
      ]
     },
     "execution_count": 68,
     "metadata": {},
     "output_type": "execute_result"
    }
   ],
   "source": [
    "response = requests.post(\n",
    "    lh\n",
    "    + '/menu/1'\n",
    "    + '?food_name=egg&food_price=50'\n",
    ")\n",
    "print(response.status_code)\n",
    "response.json()"
   ]
  },
  {
   "cell_type": "code",
   "execution_count": 69,
   "metadata": {},
   "outputs": [
    {
     "name": "stdout",
     "output_type": "stream",
     "text": [
      "204\n"
     ]
    }
   ],
   "source": [
    "response = requests.delete(\n",
    "    lh\n",
    "    + '/menu/1/4'\n",
    ")\n",
    "print(response.status_code)"
   ]
  },
  {
   "cell_type": "code",
   "execution_count": 71,
   "metadata": {},
   "outputs": [
    {
     "name": "stdout",
     "output_type": "stream",
     "text": [
      "{'id': 5.0, 'name': 'egg', 'price': 50}\n"
     ]
    }
   ],
   "source": [
    "response = requests.get(\n",
    "    lh\n",
    "    + '/menu/1/5'\n",
    ")\n",
    "print(response.json())"
   ]
  },
  {
   "cell_type": "code",
   "execution_count": null,
   "metadata": {},
   "outputs": [],
   "source": []
  }
 ],
 "metadata": {
  "interpreter": {
   "hash": "aee8b7b246df8f9039afb4144a1f6fd8d2ca17a180786b69acc140d282b71a49"
  },
  "kernelspec": {
   "display_name": "Python 3.9.7 64-bit",
   "language": "python",
   "name": "python3"
  },
  "language_info": {
   "codemirror_mode": {
    "name": "ipython",
    "version": 3
   },
   "file_extension": ".py",
   "mimetype": "text/x-python",
   "name": "python",
   "nbconvert_exporter": "python",
   "pygments_lexer": "ipython3",
   "version": "3.9.7"
  },
  "orig_nbformat": 4
 },
 "nbformat": 4,
 "nbformat_minor": 2
}
